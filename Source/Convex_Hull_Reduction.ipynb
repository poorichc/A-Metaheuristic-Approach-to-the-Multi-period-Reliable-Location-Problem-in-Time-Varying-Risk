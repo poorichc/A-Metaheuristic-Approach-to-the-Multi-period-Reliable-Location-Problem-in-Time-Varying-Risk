{
 "cells": [
  {
   "cell_type": "code",
   "execution_count": 1,
   "id": "e32003f6",
   "metadata": {},
   "outputs": [],
   "source": [
    "import gurobipy as gp\n",
    "from gurobipy import *\n",
    "import geopy.distance"
   ]
  },
  {
   "cell_type": "code",
   "execution_count": 2,
   "id": "weird-warner",
   "metadata": {},
   "outputs": [],
   "source": [
    "\n",
    "import numpy as np\n",
    "from numpy import loadtxt\n",
    "import pandas as pd\n",
    "import seaborn as sns\n",
    "import matplotlib.pyplot as plt\n",
    "import random\n",
    "import time\n",
    "from heapq import nsmallest"
   ]
  },
  {
   "cell_type": "code",
   "execution_count": 3,
   "id": "suitable-fields",
   "metadata": {},
   "outputs": [
    {
     "data": {
      "text/html": [
       "<div>\n",
       "<style scoped>\n",
       "    .dataframe tbody tr th:only-of-type {\n",
       "        vertical-align: middle;\n",
       "    }\n",
       "\n",
       "    .dataframe tbody tr th {\n",
       "        vertical-align: top;\n",
       "    }\n",
       "\n",
       "    .dataframe thead th {\n",
       "        text-align: right;\n",
       "    }\n",
       "</style>\n",
       "<table border=\"1\" class=\"dataframe\">\n",
       "  <thead>\n",
       "    <tr style=\"text-align: right;\">\n",
       "      <th></th>\n",
       "      <th>Index</th>\n",
       "      <th>demand</th>\n",
       "      <th>prob_fail</th>\n",
       "      <th>fixed cost</th>\n",
       "      <th>lat</th>\n",
       "      <th>lon</th>\n",
       "    </tr>\n",
       "  </thead>\n",
       "  <tbody>\n",
       "    <tr>\n",
       "      <th>0</th>\n",
       "      <td>0</td>\n",
       "      <td>732.2564</td>\n",
       "      <td>0.001</td>\n",
       "      <td>100000</td>\n",
       "      <td>40.67054</td>\n",
       "      <td>73.94548</td>\n",
       "    </tr>\n",
       "    <tr>\n",
       "      <th>1</th>\n",
       "      <td>1</td>\n",
       "      <td>348.5398</td>\n",
       "      <td>0.004</td>\n",
       "      <td>100000</td>\n",
       "      <td>34.11210</td>\n",
       "      <td>118.41120</td>\n",
       "    </tr>\n",
       "    <tr>\n",
       "      <th>2</th>\n",
       "      <td>2</td>\n",
       "      <td>278.3726</td>\n",
       "      <td>0.023</td>\n",
       "      <td>100000</td>\n",
       "      <td>41.83705</td>\n",
       "      <td>87.68497</td>\n",
       "    </tr>\n",
       "    <tr>\n",
       "      <th>3</th>\n",
       "      <td>3</td>\n",
       "      <td>163.0553</td>\n",
       "      <td>0.002</td>\n",
       "      <td>100000</td>\n",
       "      <td>29.76805</td>\n",
       "      <td>95.38733</td>\n",
       "    </tr>\n",
       "    <tr>\n",
       "      <th>4</th>\n",
       "      <td>4</td>\n",
       "      <td>158.5577</td>\n",
       "      <td>0.020</td>\n",
       "      <td>100000</td>\n",
       "      <td>40.00682</td>\n",
       "      <td>75.13468</td>\n",
       "    </tr>\n",
       "  </tbody>\n",
       "</table>\n",
       "</div>"
      ],
      "text/plain": [
       "   Index    demand  prob_fail  fixed cost       lat        lon\n",
       "0      0  732.2564      0.001      100000  40.67054   73.94548\n",
       "1      1  348.5398      0.004      100000  34.11210  118.41120\n",
       "2      2  278.3726      0.023      100000  41.83705   87.68497\n",
       "3      3  163.0553      0.002      100000  29.76805   95.38733\n",
       "4      4  158.5577      0.020      100000  40.00682   75.13468"
      ]
     },
     "execution_count": 3,
     "metadata": {},
     "output_type": "execute_result"
    }
   ],
   "source": [
    "df_csv = pd.read_csv('C:/Users/USER/OneDrive/Work TBSI/Graduate/Paper/Data set/Data_1/150_Low.csv')\n",
    "\n",
    "df_csv[['Index','demand','prob_fail','fixed cost','lat','lon']].head()"
   ]
  },
  {
   "cell_type": "code",
   "execution_count": 4,
   "id": "trained-python",
   "metadata": {},
   "outputs": [],
   "source": [
    "def lat_lon_distmatrix(df_csv):\n",
    "    dist = np.zeros((length,length+1)) #Plus emergency \n",
    "    df = pd. DataFrame(df_csv[['lat','lon']])\n",
    "    records = df.to_records(index=False)\n",
    "    result = list(records)\n",
    "    for i in range(len(result)):\n",
    "        for j in range(len(result)):\n",
    "            dist[i,j] = geopy.distance.distance(result[i], result[j]).km*0.621371\n",
    "    return dist\n",
    "def euc_distmatrix(df_csv):\n",
    "    dist = np.zeros((length,length+1)) #Plus emergency \n",
    "    df = pd. DataFrame(df_csv[['lat','lon']])\n",
    "    records = df.to_records(index=False)\n",
    "    result = list(records)\n",
    "    for i in range(len(result)):\n",
    "        for j in range(len(result)):\n",
    "            dist[i,j] = math.sqrt( (result[i][0]- result[j][0])**2 + (result[i][1]- result[j][1])**2)\n",
    "    return dist\n",
    "    \n",
    "length = df_csv.shape[0]\n",
    "c_ij = lat_lon_distmatrix(df_csv)*(10**(-5))\n",
    "#c_ij = euc_distmatrix(df_csv)*(10**(-3))\n",
    "c_ij[:,length] = c_ij[:,length]+0.1  #Emergency cost"
   ]
  },
  {
   "cell_type": "code",
   "execution_count": 5,
   "id": "congressional-protection",
   "metadata": {},
   "outputs": [],
   "source": [
    "V_1 = [i for i in range(0, length)] # Customer\n",
    "V_2 = [i for i in range(0, length+1)] # Facility + emergency\n",
    "S = [i for i in range(0, 10)] #Scenarios\n",
    "T = [i for i in range(1, 5)] #Time 4 period \n",
    "TE = [i for i in range(0, 5)] # include period 0\n",
    "\n",
    "d_i = list(df_csv['demand']*10000)\n",
    "\n",
    "f_j = list(df_csv['fixed cost']) \n",
    "\n",
    "A = [(i, j, t, s) for i in V_1 for j in V_2 for t in T for s in S ]\n",
    "A_1 = [(i, j, t, s) for i in V_1 for j in V_2[:-1] for t in T for s in S ]\n",
    "\n",
    "E = [(i, j) for i in V_1 for j in V_2 ]\n",
    "\n",
    "\n",
    "o = 3000\n",
    "c = 3000\n",
    "jt = [(j, t) for j in V_2 for t in T]\n",
    "\n",
    "q_jt = np.zeros((len(V_1)+1,4))\n",
    "info = [1,2,4,8]\n",
    "for i in range(0,4):\n",
    "    q_jt[:,i] = list(df_csv['prob_fail'] *(info[i])) + [0] #Prob_fail + Emergency facility\n",
    "    # (i+1)*0.25\n",
    "\n",
    "\n",
    "for i in V_1:\n",
    "    #if i not in idx_fix:      \n",
    "    f_j[i] =  f_j[i]/10"
   ]
  },
  {
   "cell_type": "markdown",
   "id": "double-deployment",
   "metadata": {},
   "source": [
    "# Scenarios generate"
   ]
  },
  {
   "cell_type": "code",
   "execution_count": 8,
   "id": "heavy-north",
   "metadata": {
    "scrolled": true
   },
   "outputs": [
    {
     "name": "stdout",
     "output_type": "stream",
     "text": [
      "[1. 1. 1. 0. 0. 0. 0. 1. 0. 0. 0. 0. 0. 0. 0. 0. 0. 0. 0. 0. 0. 0. 0. 0.\n",
      " 0. 0. 0. 0. 0. 0. 0. 0. 0. 0. 1. 0. 0. 1. 0. 0. 0. 0. 0. 0. 0. 0. 0. 0.\n",
      " 0. 0. 0. 0. 0. 0. 0. 0. 0. 0. 0. 0. 0. 0. 0. 0. 0. 0. 0. 0. 0. 0. 0. 0.\n",
      " 0. 0. 0. 0. 0. 0. 0. 0. 0. 0. 0. 0. 0. 0. 0. 0. 0. 0. 0. 0. 0. 0. 0. 0.\n",
      " 0. 0. 0. 0. 0. 0. 0. 0. 0. 0. 0. 0. 0. 0. 0. 0. 0. 0. 0. 0. 0. 0. 0. 0.\n",
      " 0. 0. 0. 0. 0. 0. 0. 0. 0. 0. 0. 0. 0. 0. 0. 0. 1. 0. 0. 0. 0. 0. 0. 0.\n",
      " 0. 0. 0. 0. 0. 0.]\n"
     ]
    }
   ],
   "source": [
    "# 49  [0, 2, 4, 7, 21, 29]\n",
    "\n",
    "\n",
    "# 150 nodes data set\n",
    "#idx_x = [0,1,2,7,34,37,136]# from set risk 0\n",
    "\n",
    "# 88 nodes data set\n",
    "#idx_x = [3,4,6,16,29,32,45,58,66]# from set risk 0\n",
    "#From 88 data set \n",
    "idx_x = [0,1,2,7,34,37,136]\n",
    "\n",
    "X = np.zeros(len(V_1))\n",
    "for i in idx_x:\n",
    "    X[i] = 1.0\n",
    "print(X)"
   ]
  },
  {
   "cell_type": "code",
   "execution_count": 49,
   "id": "behavioral-register",
   "metadata": {},
   "outputs": [],
   "source": [
    "def rank_risk(V_1 ,q_jt, N = 20, t = 3): # Number of decision var.\n",
    "    idx = list(np.argsort(q_jt[:,t])[:N])\n",
    "    return idx  \n",
    "  \n",
    "idx_set = rank_risk(V_1 ,q_jt, N = 2, t = 1)\n",
    "###################################################################\n",
    "idx_set = list(set(idx_x).union(set(idx_set))) #include initial\n",
    "idx_set.sort(reverse=1)"
   ]
  },
  {
   "cell_type": "code",
   "execution_count": 50,
   "id": "82c62663",
   "metadata": {
    "scrolled": false
   },
   "outputs": [
    {
     "name": "stdout",
     "output_type": "stream",
     "text": [
      "(8,)\n"
     ]
    },
    {
     "data": {
      "text/plain": [
       "array([136, 121,  37,  34,   7,   2,   1,   0], dtype=int64)"
      ]
     },
     "execution_count": 50,
     "metadata": {},
     "output_type": "execute_result"
    }
   ],
   "source": [
    "print(np.array(idx_set)[1:].shape) \n",
    "np.array(idx_set)[1:] #cut 88"
   ]
  },
  {
   "cell_type": "code",
   "execution_count": 51,
   "id": "postal-logistics",
   "metadata": {},
   "outputs": [
    {
     "data": {
      "image/png": "[encoded data removed]",
      "text/plain": [
       "<Figure size 500x300 with 1 Axes>"
      ]
     },
     "metadata": {},
     "output_type": "display_data"
    },
    {
     "name": "stdout",
     "output_type": "stream",
     "text": [
      "Percent coverage: 80.0246210823978%\n",
      "Total union set: [136, 121, 37, 34, 7, 2, 1, 0]\n",
      "8\n"
     ]
    }
   ],
   "source": [
    "from scipy.spatial import ConvexHull\n",
    "import matplotlib.pyplot as plt\n",
    "import numpy as np\n",
    "\n",
    "###Generate point for plot###\n",
    "#points = np.array(list(zip(df_csv['lon'], df_csv['lat'])))  # Random points in 2-D\n",
    "points = []\n",
    "for i in idx_set[1:]: #no cutting , cut 88\n",
    "    points.append([ list(df_csv['lon'])[i]*(-1) , list(df_csv['lat'])[i] ])\n",
    "points = np.array(points)\n",
    "\n",
    "full_points = np.array(list(zip(list(df_csv['lon']*(-1)), list(df_csv['lat']))))\n",
    "#############################\n",
    "\n",
    "\n",
    "hull = ConvexHull(points)\n",
    "hull_full = ConvexHull(full_points)\n",
    "\n",
    "#fig, (ax1, ax2) = plt.subplots(ncols=2, figsize=(10, 3))\n",
    "fig,  ax2 = plt.subplots(ncols=1, figsize=(5, 3))\n",
    "\n",
    "for ax in  [ax2]: ####(ax1, ax2)\n",
    "    ax.plot(points[:, 0], points[:, 1], 's', color='k', ms = 5)\n",
    "    ax.plot(full_points[:, 0], full_points[:, 1], '.', color='k', ms = 3)\n",
    "    \n",
    "\n",
    "    ax.set_title('Coverage')\n",
    "    '''for simplex in hull.simplices:\n",
    "        ax.plot(points[simplex, 0], points[simplex, 1], 'g', lw = 0.5)'''\n",
    "    for simplex in hull_full.simplices:\n",
    "        ax.plot(full_points[simplex, 0], full_points[simplex, 1], 'k', lw = 0.5)\n",
    "\n",
    "    ax.plot(points[hull.vertices, 0], points[hull.vertices, 1], 's', mec='k', color='none', lw=1, markersize=5)\n",
    "\n",
    "    #Fill the area within the lines that we have drawn\n",
    "    ax.fill(points[hull.vertices,0], points[hull.vertices,1], 'g', alpha=0.1)\n",
    "    \n",
    "plt.show()\n",
    "\n",
    "print(\"Percent coverage: {}%\".format(hull.area*100/hull_full.area))\n",
    "total_set = idx_set[1:]\n",
    "print(\"Total union set: {}\".format(total_set))\n",
    "print(len(total_set))"
   ]
  },
  {
   "cell_type": "markdown",
   "id": "spatial-intention",
   "metadata": {},
   "source": [
    "# Plot pareto"
   ]
  },
  {
   "cell_type": "code",
   "execution_count": 21,
   "id": "adequate-mistress",
   "metadata": {},
   "outputs": [],
   "source": [
    "x=[]\n",
    "per_cover = []\n",
    "full_points = np.array(list(zip(list(df_csv['lon']), list(df_csv['lat']))))\n",
    "hull_full = ConvexHull(full_points)\n",
    "for i in range(0,91):#more than 3 node to calculate area\n",
    "    idx_set = rank_risk(V_1 ,q_jt, N = i, t = 3)\n",
    "    # Include initial\n",
    "    idx_set = list(set(idx_x).union(set(idx_set))) #include initial\n",
    "    idx_set.sort(reverse=1)\n",
    "    \n",
    "    points = []\n",
    "    for i in idx_set[1:]:\n",
    "        points.append([ list(df_csv['lon'])[i] , list(df_csv['lat'])[i] ])\n",
    "    points = np.array(points)\n",
    "    hull = ConvexHull(points)\n",
    "    \n",
    "    \n",
    "    per_cover.append(hull.area/hull_full.area)\n",
    "    x.append(points.shape[0])\n",
    "per_cover = [0,0]+per_cover\n",
    "x = [0,0]+x"
   ]
  },
  {
   "cell_type": "code",
   "execution_count": 22,
   "id": "committed-bradford",
   "metadata": {},
   "outputs": [
    {
     "data": {
      "image/png": "[encoded data removed]",
      "text/plain": [
       "<Figure size 640x480 with 1 Axes>"
      ]
     },
     "metadata": {},
     "output_type": "display_data"
    }
   ],
   "source": [
    "\n",
    "y = per_cover\n",
    "\n",
    "plt.plot(x, y)\n",
    "plt.title('Area coverage')\n",
    "plt.xlabel('Number of locations')\n",
    "plt.ylabel('Percent coverage')\n",
    "plt.show()"
   ]
  },
  {
   "cell_type": "code",
   "execution_count": 23,
   "id": "smooth-repeat",
   "metadata": {},
   "outputs": [
    {
     "data": {
      "text/plain": [
       "{0: 0,\n",
       " 6: 0.7995200718077725,\n",
       " 7: 0.7995207285637465,\n",
       " 8: 0.8002462108239781,\n",
       " 9: 0.8002462108239781,\n",
       " 10: 0.8002462108239781,\n",
       " 11: 0.8002751468070909,\n",
       " 12: 0.8006517779483977,\n",
       " 13: 0.8006517779483977,\n",
       " 14: 0.869177061906264,\n",
       " 15: 0.869177061906264,\n",
       " 16: 0.869177061906264,\n",
       " 17: 0.869177061906264,\n",
       " 18: 0.869177061906264,\n",
       " 19: 0.8713844298845967,\n",
       " 20: 0.8713844298845967,\n",
       " 21: 0.8713844298845967,\n",
       " 22: 0.8713844298845967,\n",
       " 23: 0.8713844298845967,\n",
       " 24: 0.8713844298845967,\n",
       " 25: 0.8713844298845967,\n",
       " 26: 0.8713844298845967,\n",
       " 27: 0.8713988165290512,\n",
       " 28: 0.8713988165290512,\n",
       " 29: 0.8713988165290512,\n",
       " 30: 0.8713988165290512,\n",
       " 31: 0.8713988165290512,\n",
       " 32: 0.8713988165290512,\n",
       " 33: 0.8860224163241341,\n",
       " 34: 0.9648467583480519,\n",
       " 35: 0.9648467583480519,\n",
       " 36: 0.9648467583480519,\n",
       " 37: 0.9653392428707399,\n",
       " 38: 0.9653392428707399,\n",
       " 39: 0.9656501990667424,\n",
       " 40: 0.9656501990667424,\n",
       " 41: 0.9656501990667424,\n",
       " 42: 0.965686831940186,\n",
       " 43: 0.965686831940186,\n",
       " 44: 0.9856776160445384,\n",
       " 45: 0.9856776160445384,\n",
       " 46: 0.9856776160445384,\n",
       " 47: 0.9856776160445384,\n",
       " 48: 0.9856776160445384,\n",
       " 49: 0.9856776160445384,\n",
       " 50: 0.9856776160445384,\n",
       " 51: 0.9856776160445384,\n",
       " 52: 0.9859475673355549,\n",
       " 53: 0.9859475673355549,\n",
       " 54: 0.9859475673355549,\n",
       " 55: 0.9859475673355549,\n",
       " 56: 0.985984879785366,\n",
       " 57: 0.985984879785366,\n",
       " 58: 0.985984879785366,\n",
       " 59: 0.985984879785366,\n",
       " 60: 0.985984879785366,\n",
       " 61: 0.985984879785366,\n",
       " 62: 0.9881786865735435,\n",
       " 63: 0.9881786865735435,\n",
       " 64: 0.9881786865735435,\n",
       " 65: 0.988476839833322,\n",
       " 66: 0.988476839833322,\n",
       " 67: 0.9900684995838954,\n",
       " 68: 0.9900684995838954,\n",
       " 69: 0.9900684995838954,\n",
       " 70: 0.9900684995838954,\n",
       " 71: 0.9900684995838954,\n",
       " 72: 0.9900684995838954,\n",
       " 73: 0.9900684995838954,\n",
       " 74: 0.9900684995838954,\n",
       " 75: 0.9900684995838954,\n",
       " 76: 0.9900684995838954,\n",
       " 77: 0.9900684995838954,\n",
       " 78: 0.9900685755973428,\n",
       " 79: 0.9900685755973428,\n",
       " 80: 0.9900685755973428,\n",
       " 81: 0.9901077708730053,\n",
       " 82: 0.9901077708730053,\n",
       " 83: 0.9901077708730053,\n",
       " 84: 0.9901077708730053,\n",
       " 85: 0.9901077708730053,\n",
       " 86: 0.990136070596536,\n",
       " 87: 0.990136070596536,\n",
       " 88: 0.990136070596536,\n",
       " 89: 0.990136070596536,\n",
       " 90: 0.990136070596536,\n",
       " 91: 0.990136070596536,\n",
       " 92: 0.990136070596536}"
      ]
     },
     "execution_count": 23,
     "metadata": {},
     "output_type": "execute_result"
    }
   ],
   "source": [
    "dict(zip(x, y))"
   ]
  },
  {
   "cell_type": "markdown",
   "id": "fbe06364",
   "metadata": {},
   "source": [
    "# "
   ]
  },
  {
   "cell_type": "markdown",
   "id": "d4fc23d5",
   "metadata": {},
   "source": [
    "# Figure"
   ]
  },
  {
   "cell_type": "code",
   "execution_count": 10,
   "id": "5a4e9d29",
   "metadata": {
    "scrolled": true
   },
   "outputs": [],
   "source": [
    "#idx_set = [29, 21, 7, 4, 2, 0]\n",
    "idx_set = [29, 21, 7, 4, 2, 0]\n",
    "can_set = list(range(0,49))\n",
    "dist_set = []\n",
    "X = np.zeros(len(V_1))\n",
    "for i in idx_set:\n",
    "    X[i] = 1.0\n"
   ]
  },
  {
   "cell_type": "code",
   "execution_count": 11,
   "id": "88bc1282",
   "metadata": {},
   "outputs": [],
   "source": [
    "# Arc\n",
    "df_csv = pd.read_csv('C:/Users/USER/OneDrive/Work TBSI/Graduate/Paper/Data set/Data_1/49_Low.csv')\n",
    "\n",
    "df_csv[['Index','demand','prob_fail','fixed cost','lat','lon']].head()\n",
    "\n",
    "def lat_lon_distmatrix(df_csv):\n",
    "    dist = np.zeros((length,length+1)) #Plus emergency \n",
    "    df = pd. DataFrame(df_csv[['lat','lon']])\n",
    "    records = df.to_records(index=False)\n",
    "    result = list(records)\n",
    "    for i in range(len(result)):\n",
    "        for j in range(len(result)):\n",
    "            dist[i,j] = geopy.distance.distance(result[i], result[j]).km*0.621371\n",
    "    return dist\n",
    "length = df_csv.shape[0]\n",
    "c_ij = lat_lon_distmatrix(df_csv)*(10**(-5))\n",
    "c_ij[:,length] = c_ij[:,length]+0.1  #Emergency cost\n",
    "\n",
    "\n",
    "V_1 = [i for i in range(0, length)] # Customer\n",
    "V_2 = [i for i in range(0, length+1)] # Facility + Emergency\n",
    "R = [i for i in range(0, 3)] #Backup leve\n",
    "T = [i for i in range(1, 2)] #Time 4 period  (1,5)\n",
    "TE = [i for i in range(0, 2)] # include period 0 (0,5)\n",
    "\n",
    "###### Convex Hull ########\n",
    "\n",
    "set_init = set([29, 21, 7, 4, 2, 0])\n",
    "\n",
    "###########################\n",
    "\n",
    "\n",
    "d_i = list(df_csv['demand']*10000)\n",
    "\n",
    "f_j = list(df_csv['fixed cost']) + [0]\n",
    "\n",
    "#A = [(i, j, r, t) for i in V_1 for j in V_2 for r in R for t in T]\n",
    "A = [(i, j, r) for i in V_1 for r in R for j in V_2 ]\n",
    "\n",
    "J = V_2[-1]\n",
    "E = [(i, j) for i in V_1 for j in V_2 ]\n",
    "\n",
    "#A_1 = [(i, j, r, t) for i in V_1 for j in V_2[:-1] for r in R[:-1] for t in T]\n",
    "A_1 = [(i, j, r) for i in V_1 for r in R[:-1] for j in V_2[:-1] ]\n",
    "\n",
    "o = 3000/1\n",
    "c = 3000/1\n",
    "jt = [(j, t) for j in V_2 for t in T]\n",
    "\n",
    "## Multi period information #####################\n",
    "q_jt = np.zeros((len(V_1)+1,4))\n",
    "info = [1,2,4,8]\n",
    "for i in range(0,4):\n",
    "    q_jt[:,i] = list(df_csv['prob_fail'] *(info[i])) + [0] #Prob_fail + Emergency facility\n",
    "    # (i+1)*0.25\n",
    "\n",
    "\n",
    "d_it = np.zeros((len(d_i),4))\n",
    "rho = 0.5 #0, 0.5, 1 \n",
    "for i in range(0,4):\n",
    "    d_it[:,i] = np.array(d_i)*((q_jt[:-1,i]*rho)+1) #Prob_fail + Emergency facility\n",
    "\n",
    "    \n",
    "for i in V_1:\n",
    "    #if i not in idx_fix:      \n",
    "    f_j[i] =  f_j[i]/10\n",
    "##################################################\n",
    "\n",
    "\n",
    "#info = [0.1, 0.5, 1.0, 2.5]   Result diff 2 %\n",
    "#info = [0.1, 0.2, 0.8, 3.0]   Result diff 3.4 %\n",
    "def setup_LRUFL(X,V_1,V_2, R):\n",
    "    open_loc = [i for i in range(len(X)) if X[i]>0]\n",
    "    open_loc.append(V_2[-1])\n",
    "    Arc = [(i, j, r) for i in V_1 for j in open_loc for r in R ]\n",
    "    E = [(i, j) for i in V_1 for j in open_loc ]\n",
    "    Arc_1 = [(i, j, r) for i in V_1 for j in open_loc[:-1] for r in R[:-1]]\n",
    "    \n",
    "    return Arc, E, Arc_1, open_loc\n",
    "\n",
    "\n",
    "def LRUFL_givenX(X, V_1, V_2, R, d_i, q_j, f_j, A, J, E, A_1):\n",
    "    m = gp.Model(\"LRUFLX\")\n",
    "    m.Params.OutputFlag = 0\n",
    "    \n",
    "    x = X\n",
    "    y = m.addVars(A, vtype=GRB.BINARY, name =\"y\")\n",
    "    p = m.addVars(A, vtype=GRB.CONTINUOUS, name =\"p\")\n",
    "    w = m.addVars(A, vtype=GRB.CONTINUOUS, name =\"w\")\n",
    "\n",
    "\n",
    "    m.setObjective(quicksum(w[i, j, r]*c_ij[i, j]*d_i[i] for i,j,r in A) +  quicksum(f_j[j]*x[j] for j in V_2[:-1]),\n",
    "                   GRB.MINIMIZE)\n",
    "\n",
    "    # Constraint 1b\n",
    "    m.addConstrs( quicksum(y[i, j, r] for j in V_2[:-1]) + quicksum(y[i, J, s] for s in range(r+1))  == 1 \n",
    "                 for i in V_1 for r in R)\n",
    "\n",
    "    # Constraint 1c\n",
    "    m.addConstrs( quicksum(y[i, j, r] for r in R[:-1])  <= x[j]\n",
    "                 for i in V_1 for j in V_2[:-1] )\n",
    "\n",
    "    # Constraint 1d\n",
    "    m.addConstrs( quicksum(y[i, J, r] for r in R)  == 1\n",
    "                 for i in V_1 )\n",
    "\n",
    "    # Constraint 1e\n",
    "    m.addConstrs( p[i, j, 0]  == 1-q_j[j]\n",
    "                 for i in V_1 for j in V_2 )\n",
    "\n",
    "    # Constraint 1f (revise)\n",
    "    m.addConstrs( p[i, j, r]  == (1-q_j[j])*quicksum(q_j[k]*w[i, k, r-1]/(1-q_j[k]) for k in V_2[:-1])\n",
    "                 for i in V_1 for j in V_2 for r in R[1:] )\n",
    "\n",
    "    # Constraint 2a\n",
    "    m.addConstrs( w[i, j, r]  <= p[i, j, r]\n",
    "                 for i in V_1 for j in V_2 for r in R)\n",
    "    # Constraint 2b\n",
    "    m.addConstrs( w[i, j, r]  <= y[i, j, r]\n",
    "                 for i in V_1 for j in V_2 for r in R)\n",
    "    # Constraint 2c\n",
    "    m.addConstrs( w[i, j, r]  >= 0\n",
    "                 for i in V_1 for j in V_2 for r in R)\n",
    "    # Constraint 2d\n",
    "    m.addConstrs( w[i, j, r]  >= p[i, j, r]+y[i, j, r]-1\n",
    "                 for i in V_1 for j in V_2 for r in R)\n",
    "\n",
    "    m.optimize()\n",
    "\n",
    "    Var_cost = m.ObjVal - np.dot(f_j[:-1], x)\n",
    "    \n",
    "    Y_sol = {}\n",
    "    W_sol = {}\n",
    "    for i,j,r in A:\n",
    "        if y[(i,j,r)].x >= 0.5:\n",
    "            Y_sol[i,j,r] = 1\n",
    "            W_sol[i,j,r] = w[(i,j,r)].x\n",
    "    \n",
    "    return m.ObjVal, Var_cost , Y_sol, W_sol"
   ]
  },
  {
   "cell_type": "code",
   "execution_count": 12,
   "id": "e38f138e",
   "metadata": {},
   "outputs": [
    {
     "name": "stdout",
     "output_type": "stream",
     "text": [
      "Set parameter Username\n",
      "Academic license - for non-commercial use only - expires 2023-07-29\n"
     ]
    }
   ],
   "source": [
    "t =0\n",
    "Total_cost, Var_cost , Y_sol, W_sol = LRUFL_givenX(X, V_1, V_2, R, d_i, q_jt[:,t], f_j, A, J, E, A_1)"
   ]
  },
  {
   "cell_type": "code",
   "execution_count": 13,
   "id": "e1b295b2",
   "metadata": {},
   "outputs": [],
   "source": [
    "active_arcs2 = list(Y_sol.keys())"
   ]
  },
  {
   "cell_type": "code",
   "execution_count": null,
   "id": "869afc95",
   "metadata": {},
   "outputs": [],
   "source": [
    "\n"
   ]
  },
  {
   "cell_type": "code",
   "execution_count": null,
   "id": "87dcb467",
   "metadata": {},
   "outputs": [],
   "source": []
  },
  {
   "cell_type": "code",
   "execution_count": null,
   "id": "59feb608",
   "metadata": {},
   "outputs": [],
   "source": []
  },
  {
   "cell_type": "code",
   "execution_count": null,
   "id": "d6606628",
   "metadata": {},
   "outputs": [],
   "source": []
  },
  {
   "cell_type": "code",
   "execution_count": 17,
   "id": "9e5bc2cf",
   "metadata": {
    "scrolled": false
   },
   "outputs": [
    {
     "data": {
      "image/png": "[encoded data removed]",
      "text/plain": [
       "<Figure size 600x400 with 1 Axes>"
      ]
     },
     "metadata": {},
     "output_type": "display_data"
    }
   ],
   "source": [
    "###Generate point for plot###\n",
    "#points = np.array(list(zip(df_csv['lon'], df_csv['lat'])))  # Random points in 2-D\n",
    "points = []\n",
    "for i in idx_set[0:]: #no cutting , cut 88\n",
    "    points.append([ list(df_csv['lon'])[i]*(-1) , list(df_csv['lat'])[i] ])\n",
    "points = np.array(points)\n",
    "\n",
    "can_points = []\n",
    "for i in can_set: #no cutting , cut 88\n",
    "    can_points.append([ list(df_csv['lon'])[i]*(-1) , list(df_csv['lat'])[i] ])\n",
    "can_points = np.array(can_points)\n",
    "\n",
    "dis_points = []\n",
    "for i in dist_set: #no cutting , cut 88\n",
    "    dis_points.append([ list(df_csv['lon'])[i]*(-1) , list(df_csv['lat'])[i] ])\n",
    "dis_points = np.array(dis_points)\n",
    "\n",
    "full_points = np.array(list(zip(list(df_csv['lon']*(-1)), list(df_csv['lat']))))\n",
    "#############################\n",
    "\n",
    "#fig, (ax1, ax2) = plt.subplots(ncols=2, figsize=(10, 3))\n",
    "fig,  ax2 = plt.subplots(ncols=1, figsize=(6, 4))\n",
    "\n",
    "for ax in  [ax2]: ####(ax1, ax2)\n",
    "    ax.plot(points[:, 0], points[:, 1], 's', color='green', ms = 7)\n",
    "    ax.plot(full_points[:, 0], full_points[:, 1], '.', color='k', ms = 3)\n",
    "    #ax.scatter(can_points[:, 0], can_points[:, 1], marker = 's', color='white', linewidths =1, edgecolor =\"green\", s = 50)\n",
    "    #ax.scatter(dis_points[:, 0], dis_points[:, 1], marker = 's', color='red', linewidths =1, edgecolor =\"red\", s = 50)\n",
    "    \n",
    "#Plot risk\n",
    "for i in range(49):\n",
    "    ax.scatter(can_points[i, 0], can_points[i, 1], marker = 's', color='red',  s = 150, alpha = q_jt[i,3])\n",
    "    \n",
    "\n",
    "for i, j, r in active_arcs2:\n",
    "    if r == 0:\n",
    "        ax.plot([df_csv['lon'][i]*(-1), df_csv['lon'][j]*(-1)], [df_csv['lat'][i], df_csv['lat'][j]], c='k', alpha=0.3)\n",
    "    '''\n",
    "    if r == 1:\n",
    "        ax.plot([df_csv['lon'][i]*(-1), df_csv['lon'][j]*(-1)], [df_csv['lat'][i], df_csv['lat'][j]], c='green', alpha=0.1)\n",
    "'''\n",
    "        \n",
    "ax.get_xaxis().set_visible(False)\n",
    "ax.get_yaxis().set_visible(False)\n",
    "plt.show()\n"
   ]
  },
  {
   "cell_type": "code",
   "execution_count": 178,
   "id": "6c3b4ea2",
   "metadata": {},
   "outputs": [
    {
     "data": {
      "text/plain": [
       "array([0.224, 0.192, 0.28 , 0.208, 0.312, 0.36 , 0.088, 0.392, 0.232,\n",
       "       0.048, 0.104, 0.4  , 0.368, 0.032, 0.024, 0.104, 0.4  , 0.368,\n",
       "       0.24 , 0.336, 0.08 , 0.024, 0.28 , 0.176, 0.232, 0.088, 0.4  ,\n",
       "       0.248, 0.056, 0.208, 0.072, 0.2  , 0.36 , 0.336, 0.264, 0.072,\n",
       "       0.192, 0.136, 0.328, 0.112, 0.152, 0.216, 0.4  , 0.296, 0.344,\n",
       "       0.008, 0.176, 0.096, 0.376, 0.   ])"
      ]
     },
     "execution_count": 178,
     "metadata": {},
     "output_type": "execute_result"
    }
   ],
   "source": [
    "q_jt[:,3]"
   ]
  },
  {
   "cell_type": "code",
   "execution_count": 176,
   "id": "6e5c080b",
   "metadata": {},
   "outputs": [
    {
     "data": {
      "text/plain": [
       "-121.46736"
      ]
     },
     "execution_count": 176,
     "metadata": {},
     "output_type": "execute_result"
    }
   ],
   "source": [
    "can_points[0,0]"
   ]
  },
  {
   "cell_type": "code",
   "execution_count": 173,
   "id": "dfac0393",
   "metadata": {},
   "outputs": [
    {
     "data": {
      "text/plain": [
       "[<AxesSubplot:>]"
      ]
     },
     "execution_count": 173,
     "metadata": {},
     "output_type": "execute_result"
    }
   ],
   "source": [
    "[ax2]"
   ]
  },
  {
   "cell_type": "code",
   "execution_count": 50,
   "id": "328bb80a",
   "metadata": {},
   "outputs": [
    {
     "data": {
      "text/plain": [
       "array([ -73.799017,  -84.281399, -104.872655])"
      ]
     },
     "execution_count": 50,
     "metadata": {},
     "output_type": "execute_result"
    }
   ],
   "source": [
    "can_points[:, 0]"
   ]
  },
  {
   "cell_type": "code",
   "execution_count": 115,
   "id": "592f9ef2",
   "metadata": {},
   "outputs": [
    {
     "data": {
      "text/plain": [
       "array([[-73.799017,  42.66575 ],\n",
       "       [-84.281399,  30.457   ]])"
      ]
     },
     "execution_count": 115,
     "metadata": {},
     "output_type": "execute_result"
    }
   ],
   "source": [
    "can_points"
   ]
  },
  {
   "cell_type": "code",
   "execution_count": 114,
   "id": "1140d857",
   "metadata": {},
   "outputs": [
    {
     "data": {
      "text/plain": [
       "array([[-93.617405,  41.576738],\n",
       "       [-86.284287,  32.3544  ],\n",
       "       [-84.553996,  42.7091  ],\n",
       "       [-76.884503,  40.27605 ],\n",
       "       [-97.750522,  30.30588 ]])"
      ]
     },
     "execution_count": 114,
     "metadata": {},
     "output_type": "execute_result"
    }
   ],
   "source": [
    "points"
   ]
  },
  {
   "cell_type": "code",
   "execution_count": null,
   "id": "2e104b77",
   "metadata": {},
   "outputs": [],
   "source": []
  },
  {
   "cell_type": "code",
   "execution_count": null,
   "id": "30449f42",
   "metadata": {},
   "outputs": [],
   "source": []
  },
  {
   "cell_type": "code",
   "execution_count": null,
   "id": "4286f1c2",
   "metadata": {},
   "outputs": [],
   "source": []
  }
 ],
 "metadata": {
  "kernelspec": {
   "display_name": "Python 3 (ipykernel)",
   "language": "python",
   "name": "python3"
  },
  "language_info": {
   "codemirror_mode": {
    "name": "ipython",
    "version": 3
   },
   "file_extension": ".py",
   "mimetype": "text/x-python",
   "name": "python",
   "nbconvert_exporter": "python",
   "pygments_lexer": "ipython3",
   "version": "3.9.13"
  }
 },
 "nbformat": 4,
 "nbformat_minor": 5
}
