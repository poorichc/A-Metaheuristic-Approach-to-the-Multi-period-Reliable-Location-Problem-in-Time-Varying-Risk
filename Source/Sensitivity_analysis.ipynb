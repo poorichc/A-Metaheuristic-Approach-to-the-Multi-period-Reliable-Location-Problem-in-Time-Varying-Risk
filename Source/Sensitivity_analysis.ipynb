{
 "cells": [
  {
   "cell_type": "code",
   "execution_count": 34,
   "id": "5dfed55d",
   "metadata": {},
   "outputs": [],
   "source": [
    "import gurobipy as gp\n",
    "from gurobipy import *\n",
    "import numpy as np\n",
    "from numpy import loadtxt\n",
    "import pandas as pd\n",
    "import seaborn as sns\n",
    "import matplotlib.pyplot as plt\n",
    "import geopy.distance\n",
    "import random\n",
    "random.seed(10)\n",
    "import time\n",
    "from heapq import nsmallest\n",
    "\n",
    "from scipy.stats import cauchy"
   ]
  },
  {
   "cell_type": "code",
   "execution_count": 35,
   "id": "d2052ec8",
   "metadata": {},
   "outputs": [],
   "source": [
    "from ipynb.fs.full.Heuristics import *"
   ]
  },
  {
   "cell_type": "code",
   "execution_count": 36,
   "id": "1acd32be",
   "metadata": {},
   "outputs": [],
   "source": [
    "def beta_generate(mean, var, s):\n",
    "    alpha = mean*((mean*(1-mean))/var - 1)\n",
    "    beta = (1-mean)*((mean*(1-mean))/var - 1)\n",
    "    value = np.random.beta(alpha, beta, size = s)   \n",
    "    return value\n",
    "    "
   ]
  },
  {
   "cell_type": "markdown",
   "id": "74757023",
   "metadata": {},
   "source": [
    "# Load data"
   ]
  },
  {
   "cell_type": "code",
   "execution_count": 6,
   "id": "270ec30d",
   "metadata": {},
   "outputs": [],
   "source": [
    "df_csv = pd.read_csv(' ') #Load our data set\n",
    "\n",
    "def lat_lon_distmatrix(df_csv):\n",
    "    dist = np.zeros((length,length+1)) #Plus emergency \n",
    "    df = pd. DataFrame(df_csv[['lat','lon']])\n",
    "    records = df.to_records(index=False)\n",
    "    result = list(records)\n",
    "    for i in range(len(result)):\n",
    "        for j in range(len(result)):\n",
    "            dist[i,j] = geopy.distance.distance(result[i], result[j]).km*0.621371\n",
    "    return dist\n",
    "length = df_csv.shape[0]\n",
    "c_ij = lat_lon_distmatrix(df_csv)*(10**(-5))\n",
    "c_ij[:,length] = c_ij[:,length]+0.1  #Emergency cost\n",
    "\n",
    "\n",
    "V_1 = [i for i in range(0, length)] # Customer\n",
    "V_2 = [i for i in range(0, length+1)] # Facility + Emergency\n",
    "R = [i for i in range(0, 3)] #Backup leve\n",
    "T = [i for i in range(1, 5)] #Time 4 period  (1,5)\n",
    "TE = [i for i in range(0, 5)] # include period 0 (0,5)\n",
    "\n",
    "###### Convex Hull ########\n",
    "\n",
    "Hull_set = [0, 2, 4, 7, 21, 29,13, 28, 14]\n",
    "set_init = set( [0, 2, 4, 7, 21, 29])\n",
    "V_2 = list(set_init.union(Hull_set)) +[length] # 49 Or 88\n",
    "\n",
    "###########################\n",
    "\n",
    "\n",
    "d_i = list(df_csv['demand']*10000)\n",
    "\n",
    "f_j = list(df_csv['fixed cost']) + [0]\n",
    "\n",
    "#A = [(i, j, r, t) for i in V_1 for j in V_2 for r in R for t in T]\n",
    "A = [(i, j, r) for i in V_1 for j in V_2 for r in R ]\n",
    "\n",
    "J = V_2[-1]\n",
    "E = [(i, j) for i in V_1 for j in V_2 ]\n",
    "\n",
    "#A_1 = [(i, j, r, t) for i in V_1 for j in V_2[:-1] for r in R[:-1] for t in T]\n",
    "A_1 = [(i, j, r) for i in V_1 for j in V_2[:-1] for r in R[:-1]]\n",
    "\n",
    "o = 3000/1\n",
    "c = 3000/1\n",
    "jt = [(j, t) for j in V_2 for t in T]\n",
    "\n",
    "## Multi period information #####################\n",
    "q_jt = np.zeros((len(V_1)+1,4))\n",
    "info = [1,2,4,8]\n",
    "for i in range(0,4):\n",
    "    q_jt[:,i] = list(df_csv['prob_fail'] *(info[i])) + [0] #Prob_fail + Emergency facility\n",
    "    # (i+1)*0.25\n",
    "\n",
    "\n",
    "d_it = np.zeros((len(d_i),4))\n",
    "rho = 1 #0, 0.5, 1 \n",
    "for i in range(0,4):\n",
    "    d_it[:,i] = np.array(d_i)*((q_jt[:-1,i]*rho)+1) #Prob_fail + Emergency facility\n",
    "\n",
    "    \n",
    "for i in V_1:\n",
    "    #if i not in idx_fix:      \n",
    "    f_j[i] =  f_j[i]/10\n",
    "##################################################\n",
    "\n",
    "\n",
    "#info = [0.1, 0.5, 1.0, 2.5]   Result diff 2 %\n",
    "#info = [0.1, 0.2, 0.8, 3.0]   Result diff 3.4 %"
   ]
  },
  {
   "cell_type": "code",
   "execution_count": 67,
   "id": "7acfe805",
   "metadata": {},
   "outputs": [
    {
     "data": {
      "text/plain": [
       "'for i in [2, 4, 7, 29]:\\n    f_j[i] = f_j[i]+10000'"
      ]
     },
     "execution_count": 67,
     "metadata": {},
     "output_type": "execute_result"
    }
   ],
   "source": [
    "# Interdict model , Add protected cost\n",
    "'''for i in [2, 4, 7, 29]:\n",
    "    f_j[i] = f_j[i]+10000'''"
   ]
  },
  {
   "cell_type": "markdown",
   "id": "cb27f0b9",
   "metadata": {},
   "source": [
    "# Cost function"
   ]
  },
  {
   "cell_type": "code",
   "execution_count": 68,
   "id": "d9d262a8",
   "metadata": {},
   "outputs": [],
   "source": [
    "# Reslixstion RAW generate sample\n",
    "sample = 1000\n",
    "\n",
    "\n",
    "for VMR in [0.025,0.05,0.075,0.1,0.125,0.15,0.175,0.2,0.225,0.25,0.275,0.3]:\n",
    "    #######################################################################################################################\n",
    "    RAW = {}\n",
    "    for t in range(4):\n",
    "        df_q = pd.read_csv('Data/q_sensitivity/q_{}_{}.csv'.format(VMR,t)) #download q_sensitivity data\n",
    "        df_q = df_q.drop(df_q.columns[0], axis = 1)\n",
    "        arr_q = np.array(df_q)\n",
    "        for i in range(sample):\n",
    "            RAW[\"{}_{}\".format(t,i)] = arr_q[i]\n",
    "    # Keep realization to Q dict by sample\n",
    "    Q = {}\n",
    "    for s in range(sample):\n",
    "        Q[s] = np.stack((RAW[\"0_{}\".format(s)],RAW[\"1_{}\".format(s)],RAW[\"2_{}\".format(s)],RAW[\"3_{}\".format(s)])).T\n",
    "\n",
    "    #######################################################################################################################\n",
    "    OUTPUT = {}\n",
    "    OUTPUT[-1] = [0, 2, 4, 7, 21, 29]\n",
    "    OUTPUT[0] = [0, 2, 4, 13, 21, 29]\n",
    "    OUTPUT[1] = [0, 2, 4, 13, 21, 28, 29]\n",
    "    OUTPUT[2] = [0, 2, 4, 13, 21, 28, 29]\n",
    "    OUTPUT[3] = [0, 2, 4, 13, 14, 21, 28]\n",
    "    COST = {}\n",
    "\n",
    "    open_cost = 3000\n",
    "\n",
    "    for s in range(sample):\n",
    "        real_qjt = Q[s]\n",
    "        COST[s] = 0\n",
    "        for t in range(4):\n",
    "            #Previous X\n",
    "            idx_x = OUTPUT[t-1]\n",
    "            X = np.zeros(len(V_1))\n",
    "            for i in idx_x:\n",
    "                X[i] = 1\n",
    "            X_init = X.copy()\n",
    "            #Current X\n",
    "            idx_bx = OUTPUT[t]\n",
    "            BX = np.zeros(len(V_1))\n",
    "            for i in idx_bx:\n",
    "                BX[i] = 1\n",
    "\n",
    "\n",
    "            best_x = BX.copy()\n",
    "            # Assign y\n",
    "            y, w = nearest_YSol(real_qjt, c_ij, best_x, V_1, V_2, R, t)\n",
    "            # Calculate Cost\n",
    "\n",
    "            COST[s] = COST[s] + cal_Fixcost(best_x, f_j, V_2) + cal_Valcost(real_qjt, y, c_ij, list(d_it[:,t]), A, V_1, V_2, R, t) + cal_Opencost(best_x, X_init, open_cost)\n",
    "\n",
    "\n",
    "    result = COST.items()\n",
    "    # Convert object to a list\n",
    "    data = list(result)\n",
    "    arr_data = np.array(data)\n",
    "\n",
    "    #SAVE\n",
    "    df_cost = pd.DataFrame(arr_data)\n",
    "    df_cost[1].to_csv('cost_{}.csv'.format(VMR)) #save the result\n",
    "    \n",
    "  \n",
    "    "
   ]
  },
  {
   "cell_type": "markdown",
   "id": "27db4cd2",
   "metadata": {},
   "source": [
    "# For IM model"
   ]
  },
  {
   "cell_type": "code",
   "execution_count": 64,
   "id": "beb80e2e",
   "metadata": {},
   "outputs": [],
   "source": [
    "# Reslixstion RAW generate sample\n",
    "sample = 1000\n",
    "\n",
    "\n",
    "for VMR in [0.025,0.05,0.075,0.1,0.125,0.15,0.175,0.2,0.225,0.25,0.275,0.3]:\n",
    "    #######################################################################################################################\n",
    "    RAW = {}\n",
    "    for t in range(4):\n",
    "        df_q = pd.read_csv('C:/Users/USER/OneDrive/Work TBSI/Graduate/Paper/q_sensitivity/q_{}_{}.csv'.format(VMR,t))\n",
    "        df_q = df_q.drop(df_q.columns[0], axis = 1)\n",
    "        arr_q = np.array(df_q)\n",
    "        ########################## IM Fortification\n",
    "        for i in [2, 4, 7, 29]:  #protected node\n",
    "            arr_q[:,i] = 0\n",
    "        ##########################\n",
    "        for i in range(sample):\n",
    "            RAW[\"{}_{}\".format(t,i)] = arr_q[i]\n",
    "    # Keep realization to Q dict by sample\n",
    "    Q = {}\n",
    "    for s in range(sample):\n",
    "        Q[s] = np.stack((RAW[\"0_{}\".format(s)],RAW[\"1_{}\".format(s)],RAW[\"2_{}\".format(s)],RAW[\"3_{}\".format(s)])).T\n",
    "    \n",
    "    #######################################################################################################################\n",
    "    OUTPUT = {}\n",
    "    OUTPUT[-1] = [0, 2, 4, 7, 21, 29]\n",
    "    OUTPUT[0] = [0, 2, 4, 7, 21, 29]\n",
    "    OUTPUT[1] = [0, 2, 4, 7, 21, 29]\n",
    "    OUTPUT[2] = [0, 2, 4, 7, 21, 29]\n",
    "    OUTPUT[3] = [0, 2, 4, 7, 21, 29]\n",
    "    COST = {}\n",
    "    open_cost = 3000\n",
    "\n",
    "    for s in range(sample):\n",
    "        real_qjt = Q[s]\n",
    "        COST[s] = 0\n",
    "        for t in range(4):\n",
    "            #Previous X\n",
    "            idx_x = OUTPUT[t-1]\n",
    "            X = np.zeros(len(V_1))\n",
    "            for i in idx_x:\n",
    "                X[i] = 1\n",
    "            X_init = X.copy()\n",
    "            #Current X\n",
    "            idx_bx = OUTPUT[t]\n",
    "            BX = np.zeros(len(V_1))\n",
    "            for i in idx_bx:\n",
    "                BX[i] = 1\n",
    "\n",
    "\n",
    "            best_x = BX.copy()\n",
    "            # Assign y\n",
    "            y, w = nearest_YSol(real_qjt, c_ij, best_x, V_1, V_2, R, t)\n",
    "            # Calculate Cost\n",
    "\n",
    "            COST[s] = COST[s] + cal_Fixcost(best_x, f_j, V_2) + cal_Valcost(real_qjt, y, c_ij, list(d_it[:,t]), A, V_1, V_2, R, t) + cal_Opencost(best_x, X_init, open_cost)\n",
    "\n",
    "\n",
    "    result = COST.items()\n",
    "    # Convert object to a list\n",
    "    data = list(result)\n",
    "    arr_data = np.array(data)\n",
    "\n",
    "    #SAVE\n",
    "    df_cost = pd.DataFrame(arr_data)\n",
    "    df_cost[1].to_csv('cost_IM_{}.csv'.format(VMR)) #save the result\n",
    "    \n",
    "   \n",
    "    "
   ]
  },
  {
   "cell_type": "code",
   "execution_count": null,
   "id": "7caf53ba",
   "metadata": {},
   "outputs": [],
   "source": []
  },
  {
   "cell_type": "code",
   "execution_count": 83,
   "id": "4337d0fe",
   "metadata": {},
   "outputs": [],
   "source": [
    "OUTPUT = {}\n",
    "OUTPUT[-1] = [0, 2, 4, 7, 21, 29]\n",
    "OUTPUT[0] = [0, 2, 4, 13, 21, 29]\n",
    "OUTPUT[1] = [0, 2, 4, 13, 21, 28, 29]\n",
    "OUTPUT[2] = [0, 2, 4, 13, 21, 28, 29]\n",
    "OUTPUT[3] = [0, 2, 4, 13, 14, 21, 28]\n",
    "COST = {}\n",
    "open_cost = 3000\n",
    "\n",
    "s=1\n",
    "real_qjt = q_jt\n",
    "COST[s] = 0\n",
    "\n",
    "for t in range(4):\n",
    "    #Previous X\n",
    "    idx_x = OUTPUT[t-1]\n",
    "    X = np.zeros(len(V_1))\n",
    "    for i in idx_x:\n",
    "        X[i] = 1\n",
    "    X_init = X.copy()\n",
    "    #Current X\n",
    "    idx_bx = OUTPUT[t]\n",
    "    BX = np.zeros(len(V_1))\n",
    "    for i in idx_bx:\n",
    "        BX[i] = 1\n",
    "\n",
    "\n",
    "    best_x = BX.copy()\n",
    "    # Assign y\n",
    "    y, w = nearest_YSol(real_qjt, c_ij, best_x, V_1, V_2, R, t)\n",
    "    # Calculate Cost\n",
    "\n",
    "    COST[s] = COST[s] + cal_Fixcost(best_x, f_j, V_2) + cal_Valcost(real_qjt, y, c_ij, list(d_it[:,t]), A, V_1, V_2, R, t) + cal_Opencost(best_x, X_init, open_cost)\n",
    "\n",
    "result = COST.items()\n",
    "# Convert object to a list\n",
    "data = list(result)\n",
    "arr_data = np.array(data)"
   ]
  },
  {
   "cell_type": "markdown",
   "id": "2ca88945",
   "metadata": {},
   "source": [
    "# Graph multi"
   ]
  },
  {
   "cell_type": "code",
   "execution_count": 38,
   "id": "12de3236",
   "metadata": {
    "scrolled": true
   },
   "outputs": [],
   "source": [
    "#Load\n",
    "list_df = []\n",
    "for vmr in [0.025,0.05,0.075,0.1,0.125,0.15,0.175,0.2,0.225,0.25,0.275,0.3]:\n",
    "    df_csv = pd.read_csv('C:/Users/USER/OneDrive/Work TBSI/Graduate/Paper/Result_sensitivity/cost_{}.csv'.format(vmr))\n",
    "    arr = list(np.array(df_csv)[:,1])\n",
    "    list_df.append(arr)\n",
    "arr_df = np.array(list_df).T\n",
    "\n",
    "#Load\n",
    "list_df_WC = []\n",
    "for vmr in [0.025,0.05,0.075,0.1,0.125,0.15,0.175,0.2,0.225,0.25,0.275,0.3]:\n",
    "    df_csv = pd.read_csv('C:/Users/USER/OneDrive/Work TBSI/Graduate/Paper/Result_sensitivity/cost_IM_{}.csv'.format(vmr))\n",
    "    arr = list(np.array(df_csv)[:,1])\n",
    "    list_df_WC.append(arr)\n",
    "arr_df_WC = np.array(list_df_WC).T"
   ]
  },
  {
   "cell_type": "code",
   "execution_count": 6,
   "id": "00217ede",
   "metadata": {},
   "outputs": [
    {
     "data": {
      "text/plain": [
       "Text(0, 0.5, 'Cost')"
      ]
     },
     "execution_count": 6,
     "metadata": {},
     "output_type": "execute_result"
    },
    {
     "data": {
      "image/png": "[encoded data removed]",
      "text/plain": [
       "<Figure size 640x480 with 1 Axes>"
      ]
     },
     "metadata": {},
     "output_type": "display_data"
    }
   ],
   "source": [
    "\n",
    "y = np.mean(arr_df, axis =0)\n",
    "y = np.concatenate(([456751.18] ,y), axis = 0)\n",
    "x = np.array([0,0.025,0.05,0.075,0.1,0.125,0.15,0.175,0.2,0.225,0.25,0.275,0.3])\n",
    "y_max =  np.max(arr_df , axis = 0)\n",
    "y_max = np.concatenate(([456751.18] ,y_max), axis = 0)\n",
    "y_min = np.min(arr_df , axis = 0)\n",
    "y_min = np.concatenate(([456751.18] ,y_min), axis = 0)\n",
    "                       \n",
    "y_wc = np.mean(arr_df_WC, axis =0)\n",
    "y_wc= np.concatenate(([550000] ,y_wc), axis = 0)\n",
    "x_wc = np.array([0,0.025,0.05,0.075,0.1,0.125,0.15,0.175,0.2,0.225,0.25,0.275,0.3])\n",
    "y_max_wc =  np.max(arr_df_WC , axis = 0)\n",
    "y_max_wc = np.concatenate( ([550000] ,y_max_wc), axis = 0)\n",
    "\n",
    "y_min_wc = np.min(arr_df_WC , axis = 0)\n",
    "y_min_wc = np.concatenate(([550000] ,y_min_wc), axis = 0)\n",
    "\n",
    "# fit a linear curve an estimate its y-values and their error.\n",
    "\n",
    "\n",
    "y_err = np.std(arr_df,axis = 0)\n",
    "y_err = np.concatenate( ([0] ,y_err), axis = 0)\n",
    "\n",
    "y_err_wc = np.std(arr_df_WC,axis = 0)\n",
    "y_err_wc = np.concatenate( ([0] ,y_err_wc), axis = 0)\n",
    "\n",
    "fig, ax = plt.subplots()\n",
    "\n",
    "ax.plot(x, y, '-', alpha = 1, c = 'r')\n",
    "ax.fill_between(x, y - y_err, y + y_err, alpha=0.2  , color='r')\n",
    "ax.fill_between(x, y_max, y_min, alpha=0.1 , color='r')\n",
    "\n",
    "ax.plot(x_wc, y_wc, '-', alpha = 1, c = 'b')\n",
    "ax.fill_between(x_wc, y_wc - y_err_wc, y_wc + y_err_wc, alpha=0.2  , color='b')\n",
    "ax.fill_between(x_wc, y_max_wc, y_min_wc, alpha=0.1 , color='b')\n",
    "\n",
    "ax.plot(x, y, 'o', color='r',  markersize=2 , alpha = 0.1 )\n",
    "ax.plot(x_wc, y_wc, 'o', color='b',  markersize=2 , alpha = 0.1 )\n",
    "\n",
    "plt.ylim((0,1500000))\n",
    "plt.xlim([0, 0.3])\n",
    "#ax.get_yaxis().set_visible(False)\n",
    "#plt.grid(axis = 'both',color='white', linestyle='-', linewidth=0.6)\n",
    "#ax.set_facecolor(\"whitesmoke\" )\n",
    "\n",
    "#fig.suptitle('Sensitivity Analysis', fontsize=12)\n",
    "plt.xlabel('Variance to mean ratio', fontsize=12)\n",
    "plt.ylabel('Cost', fontsize=12)"
   ]
  },
  {
   "cell_type": "code",
   "execution_count": 39,
   "id": "b7baa25a",
   "metadata": {},
   "outputs": [
    {
     "data": {
      "text/plain": [
       "Text(0, 0.5, 'Cost')"
      ]
     },
     "execution_count": 39,
     "metadata": {},
     "output_type": "execute_result"
    },
    {
     "data": {
      "image/png": "[encoded data removed]",
      "text/plain": [
       "<Figure size 640x480 with 1 Axes>"
      ]
     },
     "metadata": {},
     "output_type": "display_data"
    }
   ],
   "source": [
    "\n",
    "y = np.mean(arr_df, axis =0)\n",
    "y = np.concatenate(([456751.18] ,y), axis = 0)\n",
    "x = np.array([0,0.025,0.05,0.075,0.1,0.125,0.15,0.175,0.2,0.225,0.25,0.275,0.3])\n",
    "\n",
    "y_max =  np.max(arr_df , axis = 0)\n",
    "y_max = np.concatenate(([456751.18] ,y_max), axis = 0)\n",
    "y_min = np.min(arr_df , axis = 0)\n",
    "y_min = np.concatenate(([456751.18] ,y_min), axis = 0)\n",
    "                       \n",
    "\n",
    "\n",
    "y_err = np.std(arr_df,axis = 0)\n",
    "y_err = np.concatenate( ([0] ,y_err), axis = 0)\n",
    "\n",
    "fig, ax = plt.subplots()\n",
    "\n",
    "ax.plot(x, y, '-', alpha = 1, c = 'r' )\n",
    "ax.fill_between(x, y - y_err, y + y_err, alpha=0.2  , color='r')\n",
    "ax.fill_between(x, y + 2*y_err, y_min, alpha=0.1 , color='r')\n",
    "\n",
    "\n",
    "\n",
    "#ax.plot(x, y, 'o', color='r',  markersize=2 , alpha = 0.1 )\n",
    "\n",
    "\n",
    "plt.ylim((0,1000000))\n",
    "plt.xlim([0, 0.3])\n",
    "#ax.get_yaxis().set_visible(False)\n",
    "#plt.grid(axis = 'both',color='white', linestyle='-', linewidth=0.6)\n",
    "#ax.set_facecolor(\"whitesmoke\" )\n",
    "\n",
    "#fig.suptitle('Sensitivity Analysis', fontsize=16)\n",
    "plt.xlabel('Variance to mean ratio', fontsize=12)\n",
    "plt.ylabel('Cost', fontsize=12)"
   ]
  },
  {
   "cell_type": "markdown",
   "id": "c77e99f2",
   "metadata": {},
   "source": [
    "# Graph WC single graph"
   ]
  },
  {
   "cell_type": "code",
   "execution_count": 40,
   "id": "8f737df3",
   "metadata": {},
   "outputs": [
    {
     "data": {
      "text/plain": [
       "Text(0, 0.5, 'Cost')"
      ]
     },
     "execution_count": 40,
     "metadata": {},
     "output_type": "execute_result"
    },
    {
     "data": {
      "image/png": "[encoded data removed]",
      "text/plain": [
       "<Figure size 640x480 with 1 Axes>"
      ]
     },
     "metadata": {},
     "output_type": "display_data"
    }
   ],
   "source": [
    "\n",
    "y_wc = np.mean(arr_df_WC, axis =0)\n",
    "y_wc= np.concatenate(([550000] ,y_wc), axis = 0)\n",
    "x_wc = np.array([0,0.025,0.05,0.075,0.1,0.125,0.15,0.175,0.2,0.225,0.25,0.275,0.3])\n",
    "y_max_wc =  np.max(arr_df_WC , axis = 0)\n",
    "y_max_wc = np.concatenate( ([550000] ,y_max_wc), axis = 0)\n",
    "\n",
    "y_min_wc = np.min(arr_df_WC , axis = 0)\n",
    "y_min_wc = np.concatenate(([550000] ,y_min_wc), axis = 0)\n",
    "\n",
    "# fit a linear curve an estimate its y-values and their error.\n",
    "\n",
    "\n",
    "y_err_wc = np.std(arr_df_WC,axis = 0)\n",
    "y_err_wc = np.concatenate( ([0] ,y_err_wc), axis = 0)\n",
    "\n",
    "fig, ax = plt.subplots()\n",
    "\n",
    "\n",
    "ax.plot(x_wc, y_wc, '-', alpha = 1, c = 'b')\n",
    "ax.fill_between(x_wc, y_wc - y_err_wc, y_wc + y_err_wc, alpha=0.2  , color='b')\n",
    "ax.fill_between(x_wc, y_wc + 2*y_err_wc, y_min_wc, alpha=0.1 , color='b')\n",
    "\n",
    "\n",
    "ax.plot(x_wc, y_wc, 'o', color='b',  markersize=2 , alpha = 0.1 )\n",
    "\n",
    "plt.ylim((0,1000000))\n",
    "plt.xlim([0, 0.3])\n",
    "#ax.get_yaxis().set_visible(False)\n",
    "#plt.grid(axis = 'both',color='white', linestyle='-', linewidth=0.6)\n",
    "#ax.set_facecolor(\"whitesmoke\" )\n",
    "\n",
    "#fig.suptitle('Sensitivity Analysis', fontsize=12)\n",
    "plt.xlabel('Variance to mean ratio', fontsize=12)\n",
    "plt.ylabel('Cost', fontsize=12)"
   ]
  }
 ],
 "metadata": {
  "kernelspec": {
   "display_name": "Python 3 (ipykernel)",
   "language": "python",
   "name": "python3"
  },
  "language_info": {
   "codemirror_mode": {
    "name": "ipython",
    "version": 3
   },
   "file_extension": ".py",
   "mimetype": "text/x-python",
   "name": "python",
   "nbconvert_exporter": "python",
   "pygments_lexer": "ipython3",
   "version": "3.9.13"
  }
 },
 "nbformat": 4,
 "nbformat_minor": 5
}
